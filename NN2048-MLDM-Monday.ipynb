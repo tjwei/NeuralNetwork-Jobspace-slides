{
 "cells": [
  {
   "cell_type": "code",
   "execution_count": 1,
   "metadata": {
    "collapsed": false,
    "slideshow": {
     "slide_type": "skip"
    }
   },
   "outputs": [],
   "source": [
    "from notebook.services.config import ConfigManager\n",
    "ConfigManager().update('livereveal', {\n",
    "              'width': 1600,\n",
    "              'height': 900,\n",
    "             'theme': 'sky2'\n",
    "})\n",
    "from IPython.display import YouTubeVideo"
   ]
  },
  {
   "cell_type": "code",
   "execution_count": 2,
   "metadata": {
    "collapsed": false,
    "slideshow": {
     "slide_type": "skip"
    }
   },
   "outputs": [
    {
     "name": "stdout",
     "output_type": "stream",
     "text": [
      "Populating the interactive namespace from numpy and matplotlib\n"
     ]
    }
   ],
   "source": [
    "%pylab inline\n",
    "figsize(15,10);"
   ]
  },
  {
   "cell_type": "markdown",
   "metadata": {
    "slideshow": {
     "slide_type": "slide"
    }
   },
   "source": [
    "# 用神經網路玩 2048\n",
    "\n",
    "\n",
    "\n",
    "### 2016/09/05 tjw at MLDM Monday\n",
    "\n",
    "\n"
   ]
  },
  {
   "cell_type": "markdown",
   "metadata": {
    "slideshow": {
     "slide_type": "slide"
    }
   },
   "source": [
    "From wikipedia:\n",
    "<img alt=\"2048 promo art.png\" src=\"//upload.wikimedia.org/wikipedia/commons/f/f0/2048_promo_art.png\" data-file-width=\"300\" data-file-height=\"300\" height=\"300\" width=\"300\"></a>\n",
    "<div>\n",
    "\n",
    "* Developer(s): Gabriele Cirulli\n",
    "* Initial release: 9 March 2014\n",
    "* Platform: \tWeb, Mobile phones, Nintendo 3DS\n",
    "* Type: \tPuzzle\n",
    "* License: \tMIT license\n",
    "* Website: \tgabrielecirulli.github.io/2048/"
   ]
  },
  {
   "cell_type": "markdown",
   "metadata": {
    "slideshow": {
     "slide_type": "slide"
    }
   },
   "source": [
    "## Google or Github: Deep Learning 2048 \n",
    "## 有很多結果"
   ]
  },
  {
   "cell_type": "code",
   "execution_count": 2,
   "metadata": {
    "collapsed": false,
    "slideshow": {
     "slide_type": "subslide"
    }
   },
   "outputs": [
    {
     "data": {
      "image/jpeg": "[encoded data removed]",
      "text/html": [
       "\n",
       "        <iframe\n",
       "            width=\"400\"\n",
       "            height=\"300\"\n",
       "            src=\"https://www.youtube.com/embed/OKTD_VedHdA\"\n",
       "            frameborder=\"0\"\n",
       "            allowfullscreen\n",
       "        ></iframe>\n",
       "        "
      ],
      "text/plain": [
       "<IPython.lib.display.YouTubeVideo at 0x7f880846afd0>"
      ]
     },
     "execution_count": 2,
     "metadata": {},
     "output_type": "execute_result"
    }
   ],
   "source": [
    "YouTubeVideo('OKTD_VedHdA')"
   ]
  },
  {
   "cell_type": "markdown",
   "metadata": {
    "slideshow": {
     "slide_type": "subslide"
    }
   },
   "source": [
    "<div class='zoom_img' style=\"width: 100%\">\n",
    "\n",
    "<img src='snapshot1.png' />\n",
    "</div>"
   ]
  },
  {
   "cell_type": "markdown",
   "metadata": {
    "slideshow": {
     "slide_type": "slide"
    }
   },
   "source": [
    "# https://github.com/tjwei/2048-NN"
   ]
  },
  {
   "cell_type": "code",
   "execution_count": 5,
   "metadata": {
    "collapsed": false,
    "slideshow": {
     "slide_type": "subslide"
    }
   },
   "outputs": [
    {
     "data": {
      "text/html": [
       "\n",
       "        <iframe\n",
       "            width=\"90%\"\n",
       "            height=\"800\"\n",
       "            src=\"https://tjwei.github.io/2048-NN\"\n",
       "            frameborder=\"0\"\n",
       "            allowfullscreen\n",
       "        ></iframe>\n",
       "        "
      ],
      "text/plain": [
       "<IPython.lib.display.IFrame at 0x7f534abc32e8>"
      ]
     },
     "execution_count": 5,
     "metadata": {},
     "output_type": "execute_result"
    }
   ],
   "source": [
    "IFrame(\"https://tjwei.github.io/2048-NN\", \"90%\", 800)"
   ]
  },
  {
   "cell_type": "code",
   "execution_count": 6,
   "metadata": {
    "collapsed": false,
    "slideshow": {
     "slide_type": "subslide"
    }
   },
   "outputs": [
    {
     "data": {
      "image/jpeg": "[encoded data removed]",
      "text/html": [
       "\n",
       "        <iframe\n",
       "            width=\"400\"\n",
       "            height=\"300\"\n",
       "            src=\"https://www.youtube.com/embed/oRC2W38lxIE\"\n",
       "            frameborder=\"0\"\n",
       "            allowfullscreen\n",
       "        ></iframe>\n",
       "        "
      ],
      "text/plain": [
       "<IPython.lib.display.YouTubeVideo at 0x7f880848eda0>"
      ]
     },
     "execution_count": 6,
     "metadata": {},
     "output_type": "execute_result"
    }
   ],
   "source": [
    "YouTubeVideo('oRC2W38lxIE')"
   ]
  },
  {
   "cell_type": "markdown",
   "metadata": {
    "slideshow": {
     "slide_type": "subslide"
    }
   },
   "source": [
    "<img src=\"https://github.com/tjwei/2048-NN/blob/master/plot1.png?raw=true\" width=\"80%\" />"
   ]
  },
  {
   "cell_type": "markdown",
   "metadata": {
    "slideshow": {
     "slide_type": "slide"
    }
   },
   "source": [
    "## Short story\n",
    "\n",
    "<div class='zoom_img' style=\"width: 100%\">\n",
    "\n",
    "<img src='snapshot2.png' />\n",
    "</div>"
   ]
  },
  {
   "cell_type": "markdown",
   "metadata": {
    "slideshow": {
     "slide_type": "slide"
    }
   },
   "source": [
    "# Learning is all about generalization\n",
    "> All generalizations are false, including this one.\n",
    "\n",
    "\n",
    "\n",
    "> --Mark Twain"
   ]
  },
  {
   "cell_type": "markdown",
   "metadata": {
    "slideshow": {
     "slide_type": "slide"
    }
   },
   "source": [
    "# 為什麼 2048 不適合用 NN"
   ]
  },
  {
   "cell_type": "markdown",
   "metadata": {
    "slideshow": {
     "slide_type": "subslide"
    }
   },
   "source": [
    "* 怎麼編碼 input\n",
    "* 邏輯太複雜\n",
    "* 用搜尋的方法更好"
   ]
  },
  {
   "cell_type": "markdown",
   "metadata": {
    "slideshow": {
     "slide_type": "subslide"
    }
   },
   "source": [
    "# 為什麼 2048 適合用 NN"
   ]
  },
  {
   "cell_type": "code",
   "execution_count": 8,
   "metadata": {
    "collapsed": true,
    "slideshow": {
     "slide_type": "skip"
    }
   },
   "outputs": [],
   "source": [
    "from lasagne.layers import *\n",
    "from lasagne.nonlinearities import *\n",
    "import lavis\n",
    "def draw(l, output_shape=False, rankdir=\"TB\"):\n",
    "    return lavis.draw_to_notebook(get_all_layers(l), output_shape=output_shape, rankdir=rankdir)\n",
    "def draw_to_file(name, l, output_shape=False, rankdir=\"TB\"):\n",
    "    dot = lavis.get_pydot_graph(get_all_layers(l), output_shape=output_shape, rankdir=rankdir)\n",
    "    dot.write_svg(name+\".svg\")"
   ]
  },
  {
   "cell_type": "markdown",
   "metadata": {
    "slideshow": {
     "slide_type": "slide"
    }
   },
   "source": [
    "### Version 1"
   ]
  },
  {
   "cell_type": "code",
   "execution_count": 12,
   "metadata": {
    "collapsed": false,
    "slideshow": {
     "slide_type": "subslide"
    }
   },
   "outputs": [
    {
     "data": {
      "image/svg+xml": [
       "<svg height=\"48pt\" viewBox=\"0.00 0.00 613.00 48.00\" width=\"613pt\" xmlns=\"http://www.w3.org/2000/svg\" xmlns:xlink=\"http://www.w3.org/1999/xlink\">\n",
       "<g class=\"graph\" id=\"graph0\" transform=\"scale(1 1) rotate(0) translate(4 44)\">\n",
       "<title>Network</title>\n",
       "<!-- lasagne.layers.dense.DenseLayer object at 0x7f87d64419b0 -->\n",
       "<g class=\"node\" id=\"node1\"><title>lasagne.layers.dense.DenseLayer object at 0x7f87d64419b0</title>\n",
       "<polygon fill=\"none\" points=\"438,-40 294,-40 294,-0 438,-0 438,-40\" stroke=\"none\"/>\n",
       "<polygon fill=\"#6ccf8d\" points=\"302,-4 302,-36 390,-36 390,-4 302,-4\" stroke=\"none\"/>\n",
       "<polygon fill=\"none\" points=\"302,-4 302,-36 390,-36 390,-4 302,-4\" stroke=\"black\"/>\n",
       "<text font-family=\"Times,serif\" font-size=\"14.00\" text-anchor=\"start\" x=\"311.5\" y=\"-23.8\">DenseLayer</text>\n",
       "<text font-family=\"Times,serif\" font-size=\"14.00\" text-anchor=\"start\" x=\"303\" y=\"-8.8\">num_units: 200</text>\n",
       "<polygon fill=\"#ffff00\" points=\"390,-4 390,-36 430,-36 430,-4 390,-4\" stroke=\"none\"/>\n",
       "<polygon fill=\"none\" points=\"390,-4 390,-36 430,-36 430,-4 390,-4\" stroke=\"black\"/>\n",
       "<text font-family=\"Times,serif\" font-size=\"14.00\" text-anchor=\"start\" x=\"391\" y=\"-16.3\">rectify</text>\n",
       "</g>\n",
       "<!-- lasagne.layers.dense.DenseLayer object at 0x7f87d6441b38 -->\n",
       "<g class=\"node\" id=\"node2\"><title>lasagne.layers.dense.DenseLayer object at 0x7f87d6441b38</title>\n",
       "<polygon fill=\"none\" points=\"605,-40 474,-40 474,-0 605,-0 605,-40\" stroke=\"none\"/>\n",
       "<polygon fill=\"#6ccf8d\" points=\"482.5,-4 482.5,-36 557.5,-36 557.5,-4 482.5,-4\" stroke=\"none\"/>\n",
       "<polygon fill=\"none\" points=\"482.5,-4 482.5,-36 557.5,-36 557.5,-4 482.5,-4\" stroke=\"black\"/>\n",
       "<text font-family=\"Times,serif\" font-size=\"14.00\" text-anchor=\"start\" x=\"485.5\" y=\"-23.8\">DenseLayer</text>\n",
       "<text font-family=\"Times,serif\" font-size=\"14.00\" text-anchor=\"start\" x=\"483.5\" y=\"-8.8\">num_units: 1</text>\n",
       "<polygon fill=\"#ffff00\" points=\"557.5,-4 557.5,-36 597.5,-36 597.5,-4 557.5,-4\" stroke=\"none\"/>\n",
       "<polygon fill=\"none\" points=\"557.5,-4 557.5,-36 597.5,-36 597.5,-4 557.5,-4\" stroke=\"black\"/>\n",
       "<text font-family=\"Times,serif\" font-size=\"14.00\" text-anchor=\"start\" x=\"558.5\" y=\"-16.3\">rectify</text>\n",
       "</g>\n",
       "<!-- lasagne.layers.dense.DenseLayer object at 0x7f87d64419b0&#45;&gt;lasagne.layers.dense.DenseLayer object at 0x7f87d6441b38 -->\n",
       "<g class=\"edge\" id=\"edge3\"><title>lasagne.layers.dense.DenseLayer object at 0x7f87d64419b0-&gt;lasagne.layers.dense.DenseLayer object at 0x7f87d6441b38</title>\n",
       "<path d=\"M438.242,-20C446.616,-20 455.181,-20 463.604,-20\" fill=\"none\" stroke=\"black\"/>\n",
       "<polygon fill=\"black\" points=\"463.785,-23.5001 473.785,-20 463.785,-16.5001 463.785,-23.5001\" stroke=\"black\"/>\n",
       "</g>\n",
       "<!-- lasagne.layers.input.InputLayer object at 0x7f87d6399dd8 -->\n",
       "<g class=\"node\" id=\"node3\"><title>lasagne.layers.input.InputLayer object at 0x7f87d6399dd8</title>\n",
       "<polygon fill=\"#a2cece\" points=\"0,-2 0,-38 78,-38 78,-2 0,-2\" stroke=\"black\"/>\n",
       "<text font-family=\"Times,serif\" font-size=\"14.00\" text-anchor=\"middle\" x=\"39\" y=\"-16.3\">InputLayer</text>\n",
       "</g>\n",
       "<!-- lasagne.layers.dense.DenseLayer object at 0x7f87d6399fd0 -->\n",
       "<g class=\"node\" id=\"node4\"><title>lasagne.layers.dense.DenseLayer object at 0x7f87d6399fd0</title>\n",
       "<polygon fill=\"none\" points=\"258,-40 114,-40 114,-0 258,-0 258,-40\" stroke=\"none\"/>\n",
       "<polygon fill=\"#6ccf8d\" points=\"122,-4 122,-36 210,-36 210,-4 122,-4\" stroke=\"none\"/>\n",
       "<polygon fill=\"none\" points=\"122,-4 122,-36 210,-36 210,-4 122,-4\" stroke=\"black\"/>\n",
       "<text font-family=\"Times,serif\" font-size=\"14.00\" text-anchor=\"start\" x=\"131.5\" y=\"-23.8\">DenseLayer</text>\n",
       "<text font-family=\"Times,serif\" font-size=\"14.00\" text-anchor=\"start\" x=\"123\" y=\"-8.8\">num_units: 500</text>\n",
       "<polygon fill=\"#ffff00\" points=\"210,-4 210,-36 250,-36 250,-4 210,-4\" stroke=\"none\"/>\n",
       "<polygon fill=\"none\" points=\"210,-4 210,-36 250,-36 250,-4 210,-4\" stroke=\"black\"/>\n",
       "<text font-family=\"Times,serif\" font-size=\"14.00\" text-anchor=\"start\" x=\"211\" y=\"-16.3\">rectify</text>\n",
       "</g>\n",
       "<!-- lasagne.layers.input.InputLayer object at 0x7f87d6399dd8&#45;&gt;lasagne.layers.dense.DenseLayer object at 0x7f87d6399fd0 -->\n",
       "<g class=\"edge\" id=\"edge1\"><title>lasagne.layers.input.InputLayer object at 0x7f87d6399dd8-&gt;lasagne.layers.dense.DenseLayer object at 0x7f87d6399fd0</title>\n",
       "<path d=\"M78.097,-20C86.0834,-20 94.7948,-20 103.686,-20\" fill=\"none\" stroke=\"black\"/>\n",
       "<polygon fill=\"black\" points=\"103.771,-23.5001 113.771,-20 103.771,-16.5001 103.771,-23.5001\" stroke=\"black\"/>\n",
       "</g>\n",
       "<!-- lasagne.layers.dense.DenseLayer object at 0x7f87d6399fd0&#45;&gt;lasagne.layers.dense.DenseLayer object at 0x7f87d64419b0 -->\n",
       "<g class=\"edge\" id=\"edge2\"><title>lasagne.layers.dense.DenseLayer object at 0x7f87d6399fd0-&gt;lasagne.layers.dense.DenseLayer object at 0x7f87d64419b0</title>\n",
       "<path d=\"M258.118,-20C266.609,-20 275.327,-20 283.944,-20\" fill=\"none\" stroke=\"black\"/>\n",
       "<polygon fill=\"black\" points=\"283.995,-23.5001 293.995,-20 283.995,-16.5001 283.995,-23.5001\" stroke=\"black\"/>\n",
       "</g>\n",
       "</g>\n",
       "</svg>"
      ],
      "text/plain": [
       "<IPython.core.display.SVG object>"
      ]
     },
     "execution_count": 12,
     "metadata": {},
     "output_type": "execute_result"
    }
   ],
   "source": [
    "_ = InputLayer(shape=(None, 4, 4, 16))\n",
    "_ = DenseLayer(_, num_units=500, nonlinearity=rectify)\n",
    "_ = DenseLayer(_, num_units=200, nonlinearity=rectify)\n",
    "l_out = DenseLayer(_, num_units=1, nonlinearity=rectify)\n",
    "draw(l_out, rankdir=\"LR\")"
   ]
  },
  {
   "cell_type": "markdown",
   "metadata": {
    "slideshow": {
     "slide_type": "subslide"
    }
   },
   "source": [
    "* Self play\n",
    "* 盤面 : 分數\n",
    "* 策略: 四個方向走走看，選分數最高的\n",
    "* 成果: 0%"
   ]
  },
  {
   "cell_type": "markdown",
   "metadata": {
    "slideshow": {
     "slide_type": "slide"
    }
   },
   "source": [
    "### 問題在\n",
    "* learning 的方式?\n",
    "* Neural Network 的能力?"
   ]
  },
  {
   "cell_type": "markdown",
   "metadata": {
    "slideshow": {
     "slide_type": "slide"
    }
   },
   "source": [
    "# Monte-Carlo Player"
   ]
  },
  {
   "cell_type": "markdown",
   "metadata": {
    "slideshow": {
     "slide_type": "subslide"
    }
   },
   "source": [
    "* 用模擬 random play 來得到最好的 move\n",
    "* 然後 self play\n",
    "* 模擬的數量 5, 10, 20, 50, 100 "
   ]
  },
  {
   "cell_type": "markdown",
   "metadata": {
    "slideshow": {
     "slide_type": "subslide"
    }
   },
   "source": [
    "## MC100\n",
    "* 1024+: 98%\n",
    "* 2048+:  83%\n",
    "* 4096: 19%"
   ]
  },
  {
   "cell_type": "markdown",
   "metadata": {
    "slideshow": {
     "slide_type": "subslide"
    }
   },
   "source": [
    "效能方面：\n",
    "* 用  Cython 改寫原來的 2048 python module\n",
    "* Embarrassingly parallel\n",
    "* ipyparallel （notebook中測試時）"
   ]
  },
  {
   "cell_type": "markdown",
   "metadata": {
    "collapsed": true,
    "slideshow": {
     "slide_type": "slide"
    }
   },
   "source": [
    "# Supervised learning"
   ]
  },
  {
   "cell_type": "markdown",
   "metadata": {
    "slideshow": {
     "slide_type": "subslide"
    }
   },
   "source": [
    "* Monte Carlo play 來得到最好的 move\n",
    "* 模擬的數量 5, 10, 20, 50, 100 \n",
    "* 盤面 : move \n",
    "* 盤面: 分數， 效果較差"
   ]
  },
  {
   "cell_type": "code",
   "execution_count": 17,
   "metadata": {
    "collapsed": false
   },
   "outputs": [
    {
     "data": {
      "image/svg+xml": [
       "<svg height=\"48pt\" viewBox=\"0.00 0.00 801.00 48.00\" width=\"801pt\" xmlns=\"http://www.w3.org/2000/svg\" xmlns:xlink=\"http://www.w3.org/1999/xlink\">\n",
       "<g class=\"graph\" id=\"graph0\" transform=\"scale(1 1) rotate(0) translate(4 44)\">\n",
       "<title>Network</title>\n",
       "<!-- lasagne.layers.dense.DenseLayer object at 0x7f87d62d75c0 -->\n",
       "<g class=\"node\" id=\"node1\"><title>lasagne.layers.dense.DenseLayer object at 0x7f87d62d75c0</title>\n",
       "<polygon fill=\"none\" points=\"793,-40 654,-40 654,-0 793,-0 793,-40\" stroke=\"none\"/>\n",
       "<polygon fill=\"#6ccf8d\" points=\"662.5,-4 662.5,-36 737.5,-36 737.5,-4 662.5,-4\" stroke=\"none\"/>\n",
       "<polygon fill=\"none\" points=\"662.5,-4 662.5,-36 737.5,-36 737.5,-4 662.5,-4\" stroke=\"black\"/>\n",
       "<text font-family=\"Times,serif\" font-size=\"14.00\" text-anchor=\"start\" x=\"665.5\" y=\"-23.8\">DenseLayer</text>\n",
       "<text font-family=\"Times,serif\" font-size=\"14.00\" text-anchor=\"start\" x=\"663.5\" y=\"-8.8\">num_units: 4</text>\n",
       "<polygon fill=\"#ffff00\" points=\"737.5,-4 737.5,-36 785.5,-36 785.5,-4 737.5,-4\" stroke=\"none\"/>\n",
       "<polygon fill=\"none\" points=\"737.5,-4 737.5,-36 785.5,-36 785.5,-4 737.5,-4\" stroke=\"black\"/>\n",
       "<text font-family=\"Times,serif\" font-size=\"14.00\" text-anchor=\"start\" x=\"738.5\" y=\"-16.3\">softmax</text>\n",
       "</g>\n",
       "<!-- lasagne.layers.dense.DenseLayer object at 0x7f87d62d7278 -->\n",
       "<g class=\"node\" id=\"node2\"><title>lasagne.layers.dense.DenseLayer object at 0x7f87d62d7278</title>\n",
       "<polygon fill=\"none\" points=\"618,-40 474,-40 474,-0 618,-0 618,-40\" stroke=\"none\"/>\n",
       "<polygon fill=\"#6ccf8d\" points=\"482,-4 482,-36 570,-36 570,-4 482,-4\" stroke=\"none\"/>\n",
       "<polygon fill=\"none\" points=\"482,-4 482,-36 570,-36 570,-4 482,-4\" stroke=\"black\"/>\n",
       "<text font-family=\"Times,serif\" font-size=\"14.00\" text-anchor=\"start\" x=\"491.5\" y=\"-23.8\">DenseLayer</text>\n",
       "<text font-family=\"Times,serif\" font-size=\"14.00\" text-anchor=\"start\" x=\"483\" y=\"-8.8\">num_units: 200</text>\n",
       "<polygon fill=\"#ffff00\" points=\"570,-4 570,-36 610,-36 610,-4 570,-4\" stroke=\"none\"/>\n",
       "<polygon fill=\"none\" points=\"570,-4 570,-36 610,-36 610,-4 570,-4\" stroke=\"black\"/>\n",
       "<text font-family=\"Times,serif\" font-size=\"14.00\" text-anchor=\"start\" x=\"571\" y=\"-16.3\">rectify</text>\n",
       "</g>\n",
       "<!-- lasagne.layers.dense.DenseLayer object at 0x7f87d62d7278&#45;&gt;lasagne.layers.dense.DenseLayer object at 0x7f87d62d75c0 -->\n",
       "<g class=\"edge\" id=\"edge4\"><title>lasagne.layers.dense.DenseLayer object at 0x7f87d62d7278-&gt;lasagne.layers.dense.DenseLayer object at 0x7f87d62d75c0</title>\n",
       "<path d=\"M618.13,-20C626.506,-20 635.092,-20 643.567,-20\" fill=\"none\" stroke=\"black\"/>\n",
       "<polygon fill=\"black\" points=\"643.828,-23.5001 653.828,-20 643.828,-16.5001 643.828,-23.5001\" stroke=\"black\"/>\n",
       "</g>\n",
       "<!-- lasagne.layers.dense.DenseLayer object at 0x7f87d631e828 -->\n",
       "<g class=\"node\" id=\"node3\"><title>lasagne.layers.dense.DenseLayer object at 0x7f87d631e828</title>\n",
       "<polygon fill=\"none\" points=\"258,-40 114,-40 114,-0 258,-0 258,-40\" stroke=\"none\"/>\n",
       "<polygon fill=\"#6ccf8d\" points=\"122,-4 122,-36 210,-36 210,-4 122,-4\" stroke=\"none\"/>\n",
       "<polygon fill=\"none\" points=\"122,-4 122,-36 210,-36 210,-4 122,-4\" stroke=\"black\"/>\n",
       "<text font-family=\"Times,serif\" font-size=\"14.00\" text-anchor=\"start\" x=\"131.5\" y=\"-23.8\">DenseLayer</text>\n",
       "<text font-family=\"Times,serif\" font-size=\"14.00\" text-anchor=\"start\" x=\"123\" y=\"-8.8\">num_units: 900</text>\n",
       "<polygon fill=\"#ffff00\" points=\"210,-4 210,-36 250,-36 250,-4 210,-4\" stroke=\"none\"/>\n",
       "<polygon fill=\"none\" points=\"210,-4 210,-36 250,-36 250,-4 210,-4\" stroke=\"black\"/>\n",
       "<text font-family=\"Times,serif\" font-size=\"14.00\" text-anchor=\"start\" x=\"211\" y=\"-16.3\">rectify</text>\n",
       "</g>\n",
       "<!-- lasagne.layers.dense.DenseLayer object at 0x7f87d62d7128 -->\n",
       "<g class=\"node\" id=\"node5\"><title>lasagne.layers.dense.DenseLayer object at 0x7f87d62d7128</title>\n",
       "<polygon fill=\"none\" points=\"438,-40 294,-40 294,-0 438,-0 438,-40\" stroke=\"none\"/>\n",
       "<polygon fill=\"#6ccf8d\" points=\"302,-4 302,-36 390,-36 390,-4 302,-4\" stroke=\"none\"/>\n",
       "<polygon fill=\"none\" points=\"302,-4 302,-36 390,-36 390,-4 302,-4\" stroke=\"black\"/>\n",
       "<text font-family=\"Times,serif\" font-size=\"14.00\" text-anchor=\"start\" x=\"311.5\" y=\"-23.8\">DenseLayer</text>\n",
       "<text font-family=\"Times,serif\" font-size=\"14.00\" text-anchor=\"start\" x=\"303\" y=\"-8.8\">num_units: 300</text>\n",
       "<polygon fill=\"#ffff00\" points=\"390,-4 390,-36 430,-36 430,-4 390,-4\" stroke=\"none\"/>\n",
       "<polygon fill=\"none\" points=\"390,-4 390,-36 430,-36 430,-4 390,-4\" stroke=\"black\"/>\n",
       "<text font-family=\"Times,serif\" font-size=\"14.00\" text-anchor=\"start\" x=\"391\" y=\"-16.3\">rectify</text>\n",
       "</g>\n",
       "<!-- lasagne.layers.dense.DenseLayer object at 0x7f87d631e828&#45;&gt;lasagne.layers.dense.DenseLayer object at 0x7f87d62d7128 -->\n",
       "<g class=\"edge\" id=\"edge2\"><title>lasagne.layers.dense.DenseLayer object at 0x7f87d631e828-&gt;lasagne.layers.dense.DenseLayer object at 0x7f87d62d7128</title>\n",
       "<path d=\"M258.118,-20C266.609,-20 275.327,-20 283.944,-20\" fill=\"none\" stroke=\"black\"/>\n",
       "<polygon fill=\"black\" points=\"283.995,-23.5001 293.995,-20 283.995,-16.5001 283.995,-23.5001\" stroke=\"black\"/>\n",
       "</g>\n",
       "<!-- lasagne.layers.input.InputLayer object at 0x7f87d62d7080 -->\n",
       "<g class=\"node\" id=\"node4\"><title>lasagne.layers.input.InputLayer object at 0x7f87d62d7080</title>\n",
       "<polygon fill=\"#a2cece\" points=\"0,-2 0,-38 78,-38 78,-2 0,-2\" stroke=\"black\"/>\n",
       "<text font-family=\"Times,serif\" font-size=\"14.00\" text-anchor=\"middle\" x=\"39\" y=\"-16.3\">InputLayer</text>\n",
       "</g>\n",
       "<!-- lasagne.layers.input.InputLayer object at 0x7f87d62d7080&#45;&gt;lasagne.layers.dense.DenseLayer object at 0x7f87d631e828 -->\n",
       "<g class=\"edge\" id=\"edge1\"><title>lasagne.layers.input.InputLayer object at 0x7f87d62d7080-&gt;lasagne.layers.dense.DenseLayer object at 0x7f87d631e828</title>\n",
       "<path d=\"M78.097,-20C86.0834,-20 94.7948,-20 103.686,-20\" fill=\"none\" stroke=\"black\"/>\n",
       "<polygon fill=\"black\" points=\"103.771,-23.5001 113.771,-20 103.771,-16.5001 103.771,-23.5001\" stroke=\"black\"/>\n",
       "</g>\n",
       "<!-- lasagne.layers.dense.DenseLayer object at 0x7f87d62d7128&#45;&gt;lasagne.layers.dense.DenseLayer object at 0x7f87d62d7278 -->\n",
       "<g class=\"edge\" id=\"edge3\"><title>lasagne.layers.dense.DenseLayer object at 0x7f87d62d7128-&gt;lasagne.layers.dense.DenseLayer object at 0x7f87d62d7278</title>\n",
       "<path d=\"M438.118,-20C446.609,-20 455.327,-20 463.944,-20\" fill=\"none\" stroke=\"black\"/>\n",
       "<polygon fill=\"black\" points=\"463.995,-23.5001 473.995,-20 463.995,-16.5001 463.995,-23.5001\" stroke=\"black\"/>\n",
       "</g>\n",
       "</g>\n",
       "</svg>"
      ],
      "text/plain": [
       "<IPython.core.display.SVG object>"
      ]
     },
     "execution_count": 17,
     "metadata": {},
     "output_type": "execute_result"
    }
   ],
   "source": [
    "_ = InputLayer(shape=(None, 4, 4, 16))\n",
    "_ = DenseLayer(_, num_units=900, nonlinearity=rectify)\n",
    "_ = DenseLayer(_, num_units=300, nonlinearity=rectify)\n",
    "_ = DenseLayer(_, num_units=200, nonlinearity=rectify)\n",
    "l_out = DenseLayer(_, num_units=4, nonlinearity=softmax)\n",
    "draw(l_out, rankdir=\"LR\")"
   ]
  },
  {
   "cell_type": "markdown",
   "metadata": {
    "slideshow": {
     "slide_type": "subslide"
    }
   },
   "source": [
    "* 預測正確率： < 50%\n",
    "* 1024+: 91%\n",
    "* 2048+: 48%\n",
    "* 4096: 1%\n",
    "* 平均步數: 1200\n",
    "* 盤面: 分數 步數 < 400"
   ]
  },
  {
   "cell_type": "markdown",
   "metadata": {
    "slideshow": {
     "slide_type": "subslide"
    }
   },
   "source": [
    "# The 10,000 Hour Rule\n",
    "> “The master has failed more times than the beginner has even tried.”\n",
    "\n",
    "\n",
    "> --Stephen McCranie"
   ]
  },
  {
   "cell_type": "markdown",
   "metadata": {
    "slideshow": {
     "slide_type": "subslide"
    }
   },
   "source": [
    "* 500 萬個盤面開始看出成效\n",
    "* 需要 data augmentation"
   ]
  },
  {
   "cell_type": "markdown",
   "metadata": {
    "slideshow": {
     "slide_type": "slide"
    }
   },
   "source": [
    "* 資料不夠好?\n",
    "* 神經網路模型不夠好?"
   ]
  },
  {
   "cell_type": "markdown",
   "metadata": {
    "slideshow": {
     "slide_type": "slide"
    }
   },
   "source": [
    "# You cannot learn from textbook\n",
    "> “We learn from failure, not from success!” \n",
    "\n",
    "\n",
    "\n",
    ">  --Bram Stoker, Dracula "
   ]
  },
  {
   "cell_type": "markdown",
   "metadata": {
    "slideshow": {
     "slide_type": "subslide"
    }
   },
   "source": [
    "## 愛就要給他最好的\n",
    "* https://github.com/nneonneo/2048-ai\n",
    "* AWS 開 36 個 thread \n",
    "* 跑出 26M 個盤面 (每局限制步數)"
   ]
  },
  {
   "cell_type": "markdown",
   "metadata": {
    "slideshow": {
     "slide_type": "subslide"
    }
   },
   "source": [
    "## 結果\n",
    "* 1024+: 70%\n",
    "* 2048+: 18%\n",
    "* 4096+: 0%\n",
    "* 平均步數：843\n"
   ]
  },
  {
   "cell_type": "markdown",
   "metadata": {
    "slideshow": {
     "slide_type": "subslide"
    }
   },
   "source": [
    "## Wider seems to be better"
   ]
  },
  {
   "cell_type": "markdown",
   "metadata": {
    "slideshow": {
     "slide_type": "subslide"
    }
   },
   "source": [
    "```python\n",
    "_ = InputLayer(shape=(None, 4, 4, 16))\n",
    "_ = dense(_, 2400)\n",
    "_ = dense(_, 1600)\n",
    "_ = dense(_, 800)\n",
    "_ = dense(_, 400)\n",
    "_ = dense(_, 400)\n",
    "_ = dense(_, 200)\n",
    "_ = dense(_, 200)\n",
    "_ = dense(_, 100)\n",
    "_ = dense(_,100)\n",
    "l_out = DenseLayer(_, num_units=4, nonlinearity=softmax)\n",
    "```"
   ]
  },
  {
   "cell_type": "markdown",
   "metadata": {
    "slideshow": {
     "slide_type": "subslide"
    }
   },
   "source": [
    "## with MC 100\n",
    "* 1024+: 89%\n",
    "* 2048+: 63%\n",
    "* 4096: 3%\n",
    "* 平均步數 1350\n",
    "{128: 9, 256: 25, 4096: 37, 2048: 596, 1024: 259, 512: 74} 0.633"
   ]
  },
  {
   "cell_type": "markdown",
   "metadata": {
    "slideshow": {
     "slide_type": "slide"
    }
   },
   "source": [
    "# Customized Supervised Learning\n",
    "* self play\n",
    "* tuning with 2048-ai or MC100"
   ]
  },
  {
   "cell_type": "markdown",
   "metadata": {
    "slideshow": {
     "slide_type": "subslide"
    }
   },
   "source": [
    "* 1024+: 98.5%\n",
    "* 2048+: 94.2%\n",
    "* 4096+: 78.5%\n",
    "* 8192+: 34.7%\n",
    "* 16384: not 0\n",
    "* 平均步數: 3733\n",
    "* 平均分數: 85351"
   ]
  },
  {
   "cell_type": "markdown",
   "metadata": {
    "slideshow": {
     "slide_type": "subslide"
    }
   },
   "source": [
    "<img src=\"https://github.com/tjwei/2048-NN/raw/master/plot2.png\" width=\"80%\" />"
   ]
  },
  {
   "cell_type": "markdown",
   "metadata": {
    "slideshow": {
     "slide_type": "slide"
    }
   },
   "source": [
    "# Cleaner ways?"
   ]
  },
  {
   "cell_type": "markdown",
   "metadata": {
    "slideshow": {
     "slide_type": "subslide"
    }
   },
   "source": [
    "* self play\n",
    "* top 10% games as good moves [1,0,0,0]\n",
    "* bottom 30% as bad moves [0, 1/3, 1/3, 1/3]"
   ]
  },
  {
   "cell_type": "markdown",
   "metadata": {
    "slideshow": {
     "slide_type": "slide"
    }
   },
   "source": [
    "# Thanks"
   ]
  }
 ],
 "metadata": {
  "celltoolbar": "Slideshow",
  "kernelspec": {
   "display_name": "Python 3",
   "language": "python",
   "name": "python3"
  },
  "language_info": {
   "codemirror_mode": {
    "name": "ipython",
    "version": 3
   },
   "file_extension": ".py",
   "mimetype": "text/x-python",
   "name": "python",
   "nbconvert_exporter": "python",
   "pygments_lexer": "ipython3",
   "version": "3.4.1"
  }
 },
 "nbformat": 4,
 "nbformat_minor": 0
}
